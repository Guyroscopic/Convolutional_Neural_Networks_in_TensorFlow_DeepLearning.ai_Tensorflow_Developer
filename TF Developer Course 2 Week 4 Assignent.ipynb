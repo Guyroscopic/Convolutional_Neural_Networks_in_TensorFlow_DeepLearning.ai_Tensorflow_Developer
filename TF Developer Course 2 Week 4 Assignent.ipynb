{
 "cells": [
  {
   "cell_type": "code",
   "execution_count": 2,
   "metadata": {
    "colab": {},
    "colab_type": "code",
    "id": "wYtuKeK0dImp"
   },
   "outputs": [],
   "source": [
    "# ATTENTION: Please do not alter any of the provided code in the exercise. Only add your own code where indicated\n",
    "# ATTENTION: Please do not add or remove any cells in the exercise. The grader will check specific cells based on the cell position.\n",
    "# ATTENTION: Please use the provided epoch values when training.\n",
    "\n",
    "import csv\n",
    "import numpy as np\n",
    "import tensorflow as tf\n",
    "from tensorflow.keras.preprocessing.image import ImageDataGenerator\n",
    "from os import getcwd"
   ]
  },
  {
   "cell_type": "code",
   "execution_count": 11,
   "metadata": {
    "colab": {},
    "colab_type": "code",
    "id": "4kxw-_rmcnVu"
   },
   "outputs": [
    {
     "name": "stdout",
     "output_type": "stream",
     "text": [
      "(27455, 28, 28)\n",
      "(27455,)\n",
      "(7172, 28, 28)\n",
      "(7172,)\n"
     ]
    }
   ],
   "source": [
    "def get_data(filename):\n",
    "  # You will need to write code that will read the file passed\n",
    "  # into this function. The first line contains the column headers\n",
    "  # so you should ignore it\n",
    "  # Each successive line contians 785 comma separated values between 0 and 255\n",
    "  # The first value is the label\n",
    "  # The rest are the pixel values for that picture\n",
    "  # The function will return 2 np.array types. One with all the labels\n",
    "  # One with all the images\n",
    "  #\n",
    "  # Tips: \n",
    "  # If you read a full line (as 'row') then row[0] has the label\n",
    "  # and row[1:785] has the 784 pixel values\n",
    "  # Take a look at np.array_split to turn the 784 pixels into 28x28\n",
    "  # You are reading in strings, but need the values to be floats\n",
    "  # Check out np.array().astype for a conversion\n",
    "    with open(filename) as training_file:\n",
    "      # Your code starts here\n",
    "        reader = csv.reader(training_file)\n",
    "        next(reader)\n",
    "        labels = []\n",
    "        images = []\n",
    "        for row in reader:\n",
    "            labels.append(row[0])\n",
    "            img_tmp = np.array(row[1:785])\n",
    "            \n",
    "            img_tmp = np.array(np.array_split(img_tmp, 28))\n",
    "            images.append(img_tmp)\n",
    "            img_tmp = []\n",
    "            \n",
    "        labels = np.array(labels).astype(float)\n",
    "        images = np.array(images).astype(float)\n",
    "      # Your code ends here\n",
    "    return images, labels\n",
    "\n",
    "path_sign_mnist_train = f\"{getcwd()}/../tmp2/sign_mnist_train.csv\"\n",
    "path_sign_mnist_test = f\"{getcwd()}/../tmp2/sign_mnist_test.csv\"\n",
    "training_images, training_labels = get_data(path_sign_mnist_train)\n",
    "testing_images, testing_labels = get_data(path_sign_mnist_test)\n",
    "\n",
    "# Keep these\n",
    "print(training_images.shape)\n",
    "print(training_labels.shape)\n",
    "print(testing_images.shape)\n",
    "print(testing_labels.shape)\n",
    "\n",
    "# Their output should be:\n",
    "# (27455, 28, 28)\n",
    "# (27455,)\n",
    "# (7172, 28, 28)\n",
    "# (7172,)"
   ]
  },
  {
   "cell_type": "code",
   "execution_count": 12,
   "metadata": {
    "colab": {},
    "colab_type": "code",
    "id": "awoqRpyZdQkD"
   },
   "outputs": [
    {
     "name": "stdout",
     "output_type": "stream",
     "text": [
      "(27455, 28, 28, 1)\n",
      "(7172, 28, 28, 1)\n"
     ]
    }
   ],
   "source": [
    "# In this section you will have to add another dimension to the data\n",
    "# So, for example, if your array is (10000, 28, 28)\n",
    "# You will need to make it (10000, 28, 28, 1)\n",
    "# Hint: np.expand_dims\n",
    "\n",
    "training_images = np.expand_dims(training_images,  axis=-1)\n",
    "testing_images = np.expand_dims(testing_images,  axis=-1)\n",
    "\n",
    "\n",
    "# Create an ImageDataGenerator and do Image Augmentation\n",
    "train_datagen = ImageDataGenerator(\n",
    "    horizontal_flip = True,\n",
    "    zoom_range = 0.2,\n",
    "    rotation_range=45,\n",
    "    shear_range=0.2,\n",
    "    height_shift_range=0.2\n",
    "    )\n",
    "\n",
    "training_gen = train_datagen.flow(training_images,\n",
    "                                  training_labels,\n",
    "                                  batch_size=20)\n",
    "\n",
    "validation_datagen = ImageDataGenerator()\n",
    "\n",
    "validation_gen = train_datagen.flow(testing_images,\n",
    "                                    testing_labels,\n",
    "                                    batch_size=20)\n",
    "\n",
    "    \n",
    "# Keep These\n",
    "print(training_images.shape)\n",
    "print(testing_images.shape)\n",
    "    \n",
    "# Their output should be:\n",
    "# (27455, 28, 28, 1)\n",
    "# (7172, 28, 28, 1)"
   ]
  },
  {
   "cell_type": "code",
   "execution_count": 19,
   "metadata": {
    "colab": {},
    "colab_type": "code",
    "id": "Rmb7S32cgRqS"
   },
   "outputs": [
    {
     "name": "stdout",
     "output_type": "stream",
     "text": [
      "WARNING:tensorflow:sample_weight modes were coerced from\n",
      "  ...\n",
      "    to  \n",
      "  ['...']\n",
      "WARNING:tensorflow:sample_weight modes were coerced from\n",
      "  ...\n",
      "    to  \n",
      "  ['...']\n",
      "Train for 1373 steps, validate for 359 steps\n",
      "Epoch 1/14\n",
      "1373/1373 - 25s - loss: 5.6262 - accuracy: 0.0547 - val_loss: 3.2122 - val_accuracy: 0.0520\n",
      "Epoch 2/14\n",
      "1373/1373 - 23s - loss: 3.1688 - accuracy: 0.0781 - val_loss: 3.1464 - val_accuracy: 0.0640\n",
      "Epoch 3/14\n",
      "1373/1373 - 24s - loss: 3.0714 - accuracy: 0.0954 - val_loss: 3.0789 - val_accuracy: 0.0703\n",
      "Epoch 4/14\n",
      "1373/1373 - 25s - loss: 2.9793 - accuracy: 0.1128 - val_loss: 2.9642 - val_accuracy: 0.1079\n",
      "Epoch 5/14\n",
      "1373/1373 - 24s - loss: 2.8681 - accuracy: 0.1405 - val_loss: 2.8825 - val_accuracy: 0.1419\n",
      "Epoch 6/14\n",
      "1373/1373 - 25s - loss: 2.6904 - accuracy: 0.1873 - val_loss: 2.6775 - val_accuracy: 0.1861\n",
      "Epoch 7/14\n",
      "1373/1373 - 23s - loss: 2.4344 - accuracy: 0.2432 - val_loss: 2.4012 - val_accuracy: 0.2616\n",
      "Epoch 8/14\n",
      "1373/1373 - 23s - loss: 2.1923 - accuracy: 0.3039 - val_loss: 2.1653 - val_accuracy: 0.3095\n",
      "Epoch 9/14\n",
      "1373/1373 - 23s - loss: 1.9930 - accuracy: 0.3576 - val_loss: 2.0115 - val_accuracy: 0.3438\n",
      "Epoch 10/14\n",
      "1373/1373 - 23s - loss: 1.8466 - accuracy: 0.3955 - val_loss: 1.8986 - val_accuracy: 0.3738\n",
      "Epoch 11/14\n",
      "1373/1373 - 23s - loss: 1.7026 - accuracy: 0.4373 - val_loss: 1.7749 - val_accuracy: 0.4272\n",
      "Epoch 12/14\n",
      "1373/1373 - 25s - loss: 1.5673 - accuracy: 0.4760 - val_loss: 1.6174 - val_accuracy: 0.4685\n",
      "Epoch 13/14\n",
      "1373/1373 - 25s - loss: 1.4679 - accuracy: 0.5096 - val_loss: 1.5171 - val_accuracy: 0.4951\n",
      "Epoch 14/14\n",
      "1373/1373 - 23s - loss: 1.3700 - accuracy: 0.5394 - val_loss: 1.4454 - val_accuracy: 0.5206\n"
     ]
    },
    {
     "data": {
      "text/plain": [
       "[1.1737629002322714, 0.5899331]"
      ]
     },
     "execution_count": 19,
     "metadata": {},
     "output_type": "execute_result"
    }
   ],
   "source": [
    "# Define the model\n",
    "# Use no more than 2 Conv2D and 2 MaxPooling2D\n",
    "model = tf.keras.models.Sequential([\n",
    "    tf.keras.layers.Conv2D(16, kernel_size=(4, 4), input_shape=(28, 28, 1), activation='relu'),\n",
    "    tf.keras.layers.Dropout(0.2),    \n",
    "    tf.keras.layers.MaxPool2D(pool_size=(2, 2)), \n",
    "    tf.keras.layers.Conv2D(32, kernel_size=(3, 3), input_shape=(28, 28), activation='relu'),\n",
    "    tf.keras.layers.Dropout(0.2),    \n",
    "    tf.keras.layers.MaxPool2D(pool_size=(2, 2)),\n",
    "    tf.keras.layers.Flatten(),    \n",
    "    tf.keras.layers.Dense(128,  activation='relu'),\n",
    "    tf.keras.layers.Dense(64,  activation='relu'),\n",
    "    tf.keras.layers.Dense(26,  activation='softmax')   \n",
    "    ])\n",
    "\n",
    "# Compile Model. \n",
    "model.compile(optimizer=tf.keras.optimizers.Adam(lr=0.0001), loss='sparse_categorical_crossentropy', metrics=['accuracy'])\n",
    "\n",
    "# Train the Model\n",
    "history = model.fit_generator(training_gen, epochs=14, steps_per_epoch=1373, validation_steps=359, validation_data=validation_gen, verbose=2)\n",
    "\n",
    "model.evaluate(testing_images, testing_labels, verbose=0)"
   ]
  },
  {
   "cell_type": "code",
   "execution_count": 18,
   "metadata": {
    "colab": {},
    "colab_type": "code",
    "id": "_Q3Zpr46dsij"
   },
   "outputs": [
    {
     "data": {
      "image/png": "[encoded data removed]",
      "text/plain": [
       "<Figure size 432x288 with 1 Axes>"
      ]
     },
     "metadata": {
      "needs_background": "light"
     },
     "output_type": "display_data"
    },
    {
     "data": {
      "image/png": "[encoded data removed]",
      "text/plain": [
       "<Figure size 432x288 with 1 Axes>"
      ]
     },
     "metadata": {
      "needs_background": "light"
     },
     "output_type": "display_data"
    }
   ],
   "source": [
    "# Plot the chart for accuracy and loss on both training and validation\n",
    "%matplotlib inline\n",
    "import matplotlib.pyplot as plt\n",
    "acc = history.history['accuracy'] # Your Code Here\n",
    "val_acc = history.history['val_accuracy'] # Your Code Here\n",
    "loss = history.history['loss'] # Your Code Here\n",
    "val_loss = history.history['val_loss'] # Your Code Here\n",
    "\n",
    "epochs = range(len(acc))\n",
    "\n",
    "plt.plot(epochs, acc, 'r', label='Training accuracy')\n",
    "plt.plot(epochs, val_acc, 'b', label='Validation accuracy')\n",
    "plt.title('Training and validation accuracy')\n",
    "plt.legend()\n",
    "plt.figure()\n",
    "\n",
    "plt.plot(epochs, loss, 'r', label='Training Loss')\n",
    "plt.plot(epochs, val_loss, 'b', label='Validation Loss')\n",
    "plt.title('Training and validation loss')\n",
    "plt.legend()\n",
    "\n",
    "plt.show()"
   ]
  },
  {
   "cell_type": "markdown",
   "metadata": {},
   "source": [
    "# Submission Instructions"
   ]
  },
  {
   "cell_type": "code",
   "execution_count": null,
   "metadata": {},
   "outputs": [],
   "source": [
    "# Now click the 'Submit Assignment' button above."
   ]
  },
  {
   "cell_type": "markdown",
   "metadata": {},
   "source": [
    "# When you're done or would like to take a break, please run the two cells below to save your work and close the Notebook. This will free up resources for your fellow learners. "
   ]
  },
  {
   "cell_type": "code",
   "execution_count": null,
   "metadata": {},
   "outputs": [],
   "source": [
    "%%javascript\n",
    "<!-- Save the notebook -->\n",
    "IPython.notebook.save_checkpoint();"
   ]
  },
  {
   "cell_type": "code",
   "execution_count": null,
   "metadata": {},
   "outputs": [],
   "source": [
    "%%javascript\n",
    "IPython.notebook.session.delete();\n",
    "window.onbeforeunload = null\n",
    "setTimeout(function() { window.close(); }, 1000);"
   ]
  }
 ],
 "metadata": {
  "colab": {
   "name": "Exercise 8 - Question.ipynb",
   "provenance": []
  },
  "coursera": {
   "course_slug": "convolutional-neural-networks-tensorflow",
   "graded_item_id": "8mIh8",
   "launcher_item_id": "gg95t"
  },
  "kernelspec": {
   "display_name": "Python 3",
   "language": "python",
   "name": "python3"
  },
  "language_info": {
   "codemirror_mode": {
    "name": "ipython",
    "version": 3
   },
   "file_extension": ".py",
   "mimetype": "text/x-python",
   "name": "python",
   "nbconvert_exporter": "python",
   "pygments_lexer": "ipython3",
   "version": "3.7.7"
  }
 },
 "nbformat": 4,
 "nbformat_minor": 1
}
